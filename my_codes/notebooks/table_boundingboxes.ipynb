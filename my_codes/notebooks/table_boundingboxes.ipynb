{
 "cells": [
  {
   "cell_type": "code",
   "execution_count": null,
   "metadata": {},
   "outputs": [],
   "source": [
    "from PIL import Image\n",
    "import numpy as np\n",
    "import cv2\n",
    "from matplotlib import pyplot as plt\n",
    "import matplotlib as mpl\n",
    "mpl.rcParams['figure.figsize'] = (20, 20)"
   ]
  },
  {
   "cell_type": "code",
   "execution_count": 46,
   "metadata": {},
   "outputs": [],
   "source": [
    "from datetime import datetime\n",
    "from shutil import rmtree\n",
    "import os\n",
    "from glob import glob\n",
    "from PIL import ImageDraw, ImageFont"
   ]
  },
  {
   "cell_type": "code",
   "execution_count": 329,
   "metadata": {},
   "outputs": [],
   "source": [
    "names = sorted(glob(\"/home/gmo/Downloads/fake_data/res/name/*.png\"))\n",
    "labels = names = sorted(glob(\"/home/gmo/Downloads/fake_data/res/name/*.txt\"))"
   ]
  },
  {
   "cell_type": "code",
   "execution_count": 342,
   "metadata": {},
   "outputs": [],
   "source": [
    "names = sorted(glob(\"all/*.png\"))\n",
    "for name in names:\n",
    "    new_path = name.split('.')[0]+\".txt\"\n",
    "    text = name.split('_')[-1].split('.')[0]\n",
    "    with open(new_path, \"w\") as f:\n",
    "        f.write(text)"
   ]
  },
  {
   "cell_type": "code",
   "execution_count": 318,
   "metadata": {},
   "outputs": [],
   "source": [
    "path = '02_02'\n",
    "rows_num = 24"
   ]
  },
  {
   "cell_type": "code",
   "execution_count": 319,
   "metadata": {},
   "outputs": [],
   "source": [
    "img = Image.open(f\"{path}.jpg\")\n",
    "gray = np.array(img.convert('L'))\n",
    "gray = cv2.bilateralFilter(gray, 11, 17, 17)\n",
    "# _, thresh = cv2.threshold(gray,0,255,cv2.THRESH_OTSU)\n",
    "edged = cv2.Canny(gray, 30, 200) \n",
    "cnts = cv2.findContours(edged, cv2.RETR_EXTERNAL, cv2.CHAIN_APPROX_NONE)\n",
    "cnts = cnts[0] if len(cnts) == 2 else cnts[1]\n",
    "\n",
    "def check_box(c):\n",
    "    x,y,w,h = cv2.boundingRect(c)\n",
    "    area = cv2.contourArea(c)\n",
    "    return w > 150 and h > 20\n",
    "#     return True\n",
    "cnts = [c for c in cnts if check_box(c)]\n",
    "cnts = sorted(cnts, key=lambda cnts: cv2.boundingRect(cnts)[1], reverse=False)\n",
    "# plt.imshow(edged)\n",
    "# plt.imshow(cv2.drawContours(np.array(img), cnts, -1, (0, 255, 0), 3) )"
   ]
  },
  {
   "cell_type": "code",
   "execution_count": 320,
   "metadata": {},
   "outputs": [
    {
     "data": {
      "text/plain": [
       "(array([  21,  997,  348, 1034]), array([ 390,  998,  722, 1033]), 96)"
      ]
     },
     "execution_count": 320,
     "metadata": {},
     "output_type": "execute_result"
    }
   ],
   "source": [
    "def drawRect(img, box):\n",
    "    return cv2.rectangle(img, set(box[0:2]), set(box[2:4]))\n",
    "\n",
    "def rect(c):\n",
    "    x, y, w, h = cv2.boundingRect(c)\n",
    "    return x, y, x+w, y+h\n",
    "\n",
    "boxes = np.array(list(map(rect, cnts)), dtype=float)\n",
    "threshed = non_max_suppression_fast(boxes, 0.1)\n",
    "threshed[0], threshed[1], len(threshed)"
   ]
  },
  {
   "cell_type": "code",
   "execution_count": 321,
   "metadata": {},
   "outputs": [],
   "source": [
    "def find_table_in_boxes(boxes, threshold=(10, 10), columns=4):\n",
    "    rows = {}\n",
    "    cols = {}\n",
    "\n",
    "    # Clustering the bounding boxes by their positions\n",
    "    for box in boxes:\n",
    "        x, y, x_2, y_2 = box\n",
    "        x, y, w, h = x, y, x_2-x, y_2-y\n",
    "\n",
    "#         (x, y, w, h) = box\n",
    "        col_key = x // threshold[0]\n",
    "        row_key = y // threshold[1]\n",
    "        cols[row_key] = [box] if col_key not in cols else cols[col_key] + [box]\n",
    "        rows[row_key] = [box] if row_key not in rows else rows[row_key] + [box]\n",
    "\n",
    "    # Filtering out the clusters having less than 2 cols\n",
    "    table_cells = list(filter(lambda r: len(r) == columns, rows.values()))\n",
    "    # Sorting the row cells by x coord\n",
    "    table_cells = [list(sorted(tb, key=lambda r: r[0])) for tb in table_cells]\n",
    "    # Sorting rows by the y coord\n",
    "    table_cells = list(sorted(table_cells, key=lambda r: r[0][1]))\n",
    "\n",
    "    return table_cells"
   ]
  },
  {
   "cell_type": "code",
   "execution_count": 322,
   "metadata": {},
   "outputs": [
    {
     "name": "stdout",
     "output_type": "stream",
     "text": [
      "33 96\n"
     ]
    }
   ],
   "source": [
    "ls = []\n",
    "best = None\n",
    "for n in range(5, 50):\n",
    "    k = np.array(img)\n",
    "    num = len(np.array(find_table_in_boxes(threshed, (n, n), 4)).reshape(-1, 4))\n",
    "    if num==rows_num*4:\n",
    "        print(n, len(np.array(find_table_in_boxes(threshed, (n, n), 4)).reshape(-1, 4)))\n",
    "        best = n\n",
    "        break\n",
    "\n",
    "k = np.array(img)\n",
    "table = np.array(find_table_in_boxes(threshed, (best, best), 4)).reshape(-1, 4)\n",
    "# draw_bounding_boxes_on_image_array(k, table, thickness=4)\n",
    "# plt.imshow(k)"
   ]
  },
  {
   "cell_type": "code",
   "execution_count": 323,
   "metadata": {},
   "outputs": [],
   "source": [
    "# table_1 = table\n",
    "# img_1 = img\n",
    "table_2 = table\n",
    "img_2 = img"
   ]
  },
  {
   "cell_type": "code",
   "execution_count": 324,
   "metadata": {},
   "outputs": [],
   "source": [
    "tables = []\n",
    "tables.extend(table_1)\n",
    "tables.extend(table_2)"
   ]
  },
  {
   "cell_type": "code",
   "execution_count": 325,
   "metadata": {},
   "outputs": [
    {
     "data": {
      "text/plain": [
       "49.0"
      ]
     },
     "execution_count": 325,
     "metadata": {},
     "output_type": "execute_result"
    }
   ],
   "source": [
    "len(tables)/4"
   ]
  },
  {
   "cell_type": "code",
   "execution_count": 326,
   "metadata": {},
   "outputs": [
    {
     "name": "stdout",
     "output_type": "stream",
     "text": [
      "100\n",
      "96\n"
     ]
    }
   ],
   "source": [
    "ls = []\n",
    "\n",
    "np_img = np.array(img_1)\n",
    "nc = 0\n",
    "for b in tables[0:25*4]:\n",
    "    x, y, x2, y2 = b\n",
    "    ROI = np_img[y:y2, x:x2]\n",
    "    ls.append(ROI.copy())\n",
    "    nc += 1\n",
    "print(nc)\n",
    "\n",
    "np_img = np.array(img_2)\n",
    "nc = 0\n",
    "for b in tables[25*4:]:\n",
    "    x, y, x2, y2 = b\n",
    "    ROI = np_img[y:y2, x:x2]\n",
    "    ls.append(ROI.copy())\n",
    "    nc += 1\n",
    "print(nc)"
   ]
  },
  {
   "cell_type": "code",
   "execution_count": 327,
   "metadata": {},
   "outputs": [
    {
     "data": {
      "text/plain": [
       "196"
      ]
     },
     "execution_count": 327,
     "metadata": {},
     "output_type": "execute_result"
    }
   ],
   "source": [
    "len(ls)"
   ]
  },
  {
   "cell_type": "code",
   "execution_count": 328,
   "metadata": {},
   "outputs": [],
   "source": [
    "path = '02'\n",
    "rows_num = 49\n",
    "os.makedirs(path, exist_ok=True)\n",
    "rmtree(path)\n",
    "os.makedirs(path, exist_ok=True)\n",
    "nc=0\n",
    "for i in range(rows_num):\n",
    "    for j in range(4):\n",
    "        Image.fromarray(ls[nc]).save(f\"{path}/{names[196 + i * 1 + j * 49].split('/')[-1]}\")\n",
    "        nc+=1"
   ]
  },
  {
   "cell_type": "code",
   "execution_count": 233,
   "metadata": {
    "jupyter": {
     "source_hidden": true
    }
   },
   "outputs": [],
   "source": [
    "def draw_bounding_box_on_image_array(image,\n",
    "                                     xmin,\n",
    "                                     ymin,\n",
    "                                     xmax,\n",
    "                                     ymax,\n",
    "                                     color='red',\n",
    "                                     thickness=4,\n",
    "                                     display_str_list=(),\n",
    "                                     use_normalized_coordinates=True):\n",
    "  image_pil = Image.fromarray(np.uint8(image)).convert('RGB')\n",
    "  draw_bounding_box_on_image(image_pil, ymin, xmin, ymax, xmax, color,\n",
    "                             thickness, display_str_list,\n",
    "                             use_normalized_coordinates)\n",
    "  np.copyto(image, np.array(image_pil))\n",
    "\n",
    "\n",
    "def draw_bounding_box_on_image(image,\n",
    "                               xmin,\n",
    "                               ymin,\n",
    "                               xmax,\n",
    "                               ymax,\n",
    "                               color='red',\n",
    "                               thickness=4,\n",
    "                               display_str_list=(),\n",
    "                               use_normalized_coordinates=False):\n",
    "  draw = ImageDraw.Draw(image)\n",
    "  im_width, im_height = image.size\n",
    "  if use_normalized_coordinates:\n",
    "    (left, right, top, bottom) = (xmin * im_width, xmax * im_width,\n",
    "                                  ymin * im_height, ymax * im_height)\n",
    "  else:\n",
    "    (left, right, top, bottom) = (xmin, xmax, ymin, ymax)\n",
    "  draw.line([(left, top), (left, bottom), (right, bottom),\n",
    "             (right, top), (left, top)], width=thickness, fill=color)\n",
    "  try:\n",
    "    font = ImageFont.truetype('arial.ttf', 24)\n",
    "  except IOError:\n",
    "    font = ImageFont.load_default()\n",
    "\n",
    "#   print((left, right, top, bottom))\n",
    "  # If the total height of the display strings added to the top of the bounding\n",
    "  # box exceeds the top of the image, stack the strings below the bounding box\n",
    "  # instead of above.\n",
    "  display_str_heights = [font.getsize(ds)[1] for ds in display_str_list]\n",
    "  # Each display_str has a top and bottom margin of 0.05x.\n",
    "  total_display_str_height = (1 + 2 * 0.05) * sum(display_str_heights)\n",
    "\n",
    "  if top > total_display_str_height:\n",
    "    text_bottom = top\n",
    "  else:\n",
    "    text_bottom = bottom + total_display_str_height\n",
    "  # Reverse list and print from bottom to top.\n",
    "  for display_str in display_str_list[::-1]:\n",
    "    text_width, text_height = font.getsize(display_str)\n",
    "    margin = np.ceil(0.05 * text_height)\n",
    "    draw.rectangle(\n",
    "        [(left, text_bottom - text_height - 2 * margin), (left + text_width,\n",
    "                                                          text_bottom)],\n",
    "        fill=color)\n",
    "    draw.text(\n",
    "        (left + margin, text_bottom - text_height - margin),\n",
    "        display_str,\n",
    "        fill='black',\n",
    "        font=font)\n",
    "    text_bottom -= text_height - 2 * margin\n",
    "\n",
    "\n",
    "def draw_bounding_boxes_on_image_array(image,\n",
    "                                       boxes,\n",
    "                                       color='red',\n",
    "                                       thickness=4,\n",
    "                                       display_str_list_list=()):\n",
    "  image_pil = Image.fromarray(image)\n",
    "  draw_bounding_boxes_on_image(image_pil, boxes, color, thickness,\n",
    "                               display_str_list_list)\n",
    "  np.copyto(image, np.array(image_pil))\n",
    "#   return image_pil\n",
    "\n",
    "\n",
    "def draw_bounding_boxes_on_image(image,\n",
    "                                 boxes,\n",
    "                                 color='red',\n",
    "                                 thickness=4,\n",
    "                                 display_str_list_list=()):\n",
    "  boxes_shape = boxes.shape\n",
    "  if not boxes_shape:\n",
    "    return\n",
    "  if len(boxes_shape) != 2 or boxes_shape[1] != 4:\n",
    "    raise ValueError('Input must be of size [N, 4]')\n",
    "  for i in range(boxes_shape[0]):\n",
    "    display_str_list = ()\n",
    "    if display_str_list_list:\n",
    "      display_str_list = display_str_list_list[i]\n",
    "    draw_bounding_box_on_image(image, boxes[i, 0], boxes[i, 1], boxes[i, 2],\n",
    "                               boxes[i, 3], color, thickness, display_str_list)"
   ]
  },
  {
   "cell_type": "code",
   "execution_count": 121,
   "metadata": {
    "jupyter": {
     "source_hidden": true
    }
   },
   "outputs": [],
   "source": [
    "# import the necessary packages\n",
    "import numpy as np\n",
    " \n",
    "# Malisiewicz et al.\n",
    "def non_max_suppression_fast(boxes, overlapThresh):\n",
    "\t# if there are no boxes, return an empty list\n",
    "\tif len(boxes) == 0:\n",
    "\t\treturn []\n",
    " \n",
    "\t# if the bounding boxes integers, convert them to floats --\n",
    "\t# this is important since we'll be doing a bunch of divisions\n",
    "\tif boxes.dtype.kind == \"i\":\n",
    "\t\tboxes = boxes.astype(\"float\")\n",
    " \n",
    "\t# initialize the list of picked indexes\t\n",
    "\tpick = []\n",
    " \n",
    "\t# grab the coordinates of the bounding boxes\n",
    "\tx1 = boxes[:,0]\n",
    "\ty1 = boxes[:,1]\n",
    "\tx2 = boxes[:,2]\n",
    "\ty2 = boxes[:,3]\n",
    " \n",
    "\t# compute the area of the bounding boxes and sort the bounding\n",
    "\t# boxes by the bottom-right y-coordinate of the bounding box\n",
    "\tarea = (x2 - x1 + 1) * (y2 - y1 + 1)\n",
    "\tidxs = np.argsort(y2)\n",
    " \n",
    "\t# keep looping while some indexes still remain in the indexes\n",
    "\t# list\n",
    "\twhile len(idxs) > 0:\n",
    "\t\t# grab the last index in the indexes list and add the\n",
    "\t\t# index value to the list of picked indexes\n",
    "\t\tlast = len(idxs) - 1\n",
    "\t\ti = idxs[last]\n",
    "\t\tpick.append(i)\n",
    " \n",
    "\t\t# find the largest (x, y) coordinates for the start of\n",
    "\t\t# the bounding box and the smallest (x, y) coordinates\n",
    "\t\t# for the end of the bounding box\n",
    "\t\txx1 = np.maximum(x1[i], x1[idxs[:last]])\n",
    "\t\tyy1 = np.maximum(y1[i], y1[idxs[:last]])\n",
    "\t\txx2 = np.minimum(x2[i], x2[idxs[:last]])\n",
    "\t\tyy2 = np.minimum(y2[i], y2[idxs[:last]])\n",
    " \n",
    "\t\t# compute the width and height of the bounding box\n",
    "\t\tw = np.maximum(0, xx2 - xx1 + 1)\n",
    "\t\th = np.maximum(0, yy2 - yy1 + 1)\n",
    " \n",
    "\t\t# compute the ratio of overlap\n",
    "\t\toverlap = (w * h) / area[idxs[:last]]\n",
    " \n",
    "\t\t# delete all indexes from the index list that have\n",
    "\t\toverlaps = np.concatenate(([last],np.where(overlap > overlapThresh)[0]))\n",
    "\t\tidxs = np.delete(idxs, overlaps)\n",
    " \n",
    "\t# return only the bounding boxes that were picked using the\n",
    "\t# integer data type\n",
    "\treturn boxes[pick].astype(\"int\")"
   ]
  }
 ],
 "metadata": {
  "kernelspec": {
   "display_name": "Python 3",
   "language": "python",
   "name": "python3"
  },
  "language_info": {
   "codemirror_mode": {
    "name": "ipython",
    "version": 3
   },
   "file_extension": ".py",
   "mimetype": "text/x-python",
   "name": "python",
   "nbconvert_exporter": "python",
   "pygments_lexer": "ipython3",
   "version": "3.6.9"
  }
 },
 "nbformat": 4,
 "nbformat_minor": 4
}
