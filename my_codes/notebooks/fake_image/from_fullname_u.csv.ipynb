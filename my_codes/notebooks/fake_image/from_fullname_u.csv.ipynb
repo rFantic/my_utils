{
 "cells": [
  {
   "cell_type": "code",
   "execution_count": 1,
   "metadata": {},
   "outputs": [
    {
     "name": "stdout",
     "output_type": "stream",
     "text": [
      "/home/gmo/Downloads/fake_data\n"
     ]
    }
   ],
   "source": [
    "%cd /home/gmo/Downloads/fake_data"
   ]
  },
  {
   "cell_type": "code",
   "execution_count": 2,
   "metadata": {},
   "outputs": [],
   "source": [
    "import pandas as pd\n",
    "import unicodedata\n",
    "import cv2\n",
    "from PIL import Image\n",
    "import numpy as np\n",
    "import matplotlib.pyplot as plt\n",
    "import matplotlib as mpl\n",
    "from PIL import ImageDraw, ImageFont, ImageEnhance, ImageFilter\n",
    "import os\n",
    "from random import randint\n",
    "import random\n",
    "from gimei import Gimei\n",
    "import pickle as pkl\n",
    "from sklearn.utils import shuffle\n",
    "from image_utils import ImageText\n",
    "from shutil import rmtree"
   ]
  },
  {
   "cell_type": "code",
   "execution_count": 3,
   "metadata": {},
   "outputs": [],
   "source": [
    "mpl.rcParams['figure.figsize'] = (20, 20)\n",
    "def path2np_img(path):\n",
    "    i = Image.open(path)\n",
    "    return np.array(i)"
   ]
  },
  {
   "cell_type": "code",
   "execution_count": 33,
   "metadata": {},
   "outputs": [],
   "source": [
    "name = Gimei().name"
   ]
  },
  {
   "cell_type": "code",
   "execution_count": 37,
   "metadata": {},
   "outputs": [
    {
     "data": {
      "text/plain": [
       "('圭亮', '平山')"
      ]
     },
     "execution_count": 37,
     "metadata": {},
     "output_type": "execute_result"
    }
   ],
   "source": [
    "name.first.kanji, name.last.kanji"
   ]
  },
  {
   "cell_type": "code",
   "execution_count": 44,
   "metadata": {},
   "outputs": [
    {
     "data": {
      "text/plain": [
       "('昌紀', '宮崎')"
      ]
     },
     "execution_count": 44,
     "metadata": {},
     "output_type": "execute_result"
    }
   ],
   "source": [
    "def gen_name():\n",
    "    name = Gimei().name\n",
    "    return name.first.kanji, name.last.kanji\n",
    "\n",
    "gen_name()"
   ]
  },
  {
   "cell_type": "code",
   "execution_count": 4,
   "metadata": {},
   "outputs": [],
   "source": [
    "%load_ext autoreload\n",
    "%autoreload 1"
   ]
  },
  {
   "cell_type": "code",
   "execution_count": 5,
   "metadata": {},
   "outputs": [],
   "source": [
    "df_a = pd.read_csv(\"samples/fullname_u.csv\", chunksize=1200)\n",
    "df = next(df_a)"
   ]
  },
  {
   "cell_type": "code",
   "execution_count": 6,
   "metadata": {},
   "outputs": [
    {
     "data": {
      "text/html": [
       "<div>\n",
       "<style scoped>\n",
       "    .dataframe tbody tr th:only-of-type {\n",
       "        vertical-align: middle;\n",
       "    }\n",
       "\n",
       "    .dataframe tbody tr th {\n",
       "        vertical-align: top;\n",
       "    }\n",
       "\n",
       "    .dataframe thead th {\n",
       "        text-align: right;\n",
       "    }\n",
       "</style>\n",
       "<table border=\"1\" class=\"dataframe\">\n",
       "  <thead>\n",
       "    <tr style=\"text-align: right;\">\n",
       "      <th></th>\n",
       "      <th>セ</th>\n",
       "      <th>タカエ</th>\n",
       "      <th>name</th>\n",
       "    </tr>\n",
       "  </thead>\n",
       "  <tbody>\n",
       "    <tr>\n",
       "      <th>0</th>\n",
       "      <td>ウノ</td>\n",
       "      <td>アヤ</td>\n",
       "      <td>name</td>\n",
       "    </tr>\n",
       "    <tr>\n",
       "      <th>1</th>\n",
       "      <td>ウノ</td>\n",
       "      <td>タカシ</td>\n",
       "      <td>name</td>\n",
       "    </tr>\n",
       "    <tr>\n",
       "      <th>2</th>\n",
       "      <td>ウノ</td>\n",
       "      <td>モトハル</td>\n",
       "      <td>name</td>\n",
       "    </tr>\n",
       "    <tr>\n",
       "      <th>3</th>\n",
       "      <td>オカ</td>\n",
       "      <td>ケンタロウ</td>\n",
       "      <td>name</td>\n",
       "    </tr>\n",
       "    <tr>\n",
       "      <th>4</th>\n",
       "      <td>サワ</td>\n",
       "      <td>シンイチロウ</td>\n",
       "      <td>name</td>\n",
       "    </tr>\n",
       "  </tbody>\n",
       "</table>\n",
       "</div>"
      ],
      "text/plain": [
       "    セ     タカエ  name\n",
       "0  ウノ      アヤ  name\n",
       "1  ウノ     タカシ  name\n",
       "2  ウノ    モトハル  name\n",
       "3  オカ   ケンタロウ  name\n",
       "4  サワ  シンイチロウ  name"
      ]
     },
     "execution_count": 6,
     "metadata": {},
     "output_type": "execute_result"
    }
   ],
   "source": [
    "df.head()"
   ]
  },
  {
   "cell_type": "code",
   "execution_count": 7,
   "metadata": {},
   "outputs": [],
   "source": [
    "char_df = df['セ'].apply(lambda x: unicodedata.name(x[0]))\n",
    "filtered_dt = df[char_df.str.contains('CJK')].reset_index(drop=True)"
   ]
  },
  {
   "cell_type": "code",
   "execution_count": 8,
   "metadata": {},
   "outputs": [
    {
     "data": {
      "text/plain": [
       "(3, 3)"
      ]
     },
     "execution_count": 8,
     "metadata": {},
     "output_type": "execute_result"
    }
   ],
   "source": [
    "max(filtered_dt['セ'].apply(lambda x: len(x))), \\\n",
    "max(filtered_dt['タカエ'].apply(lambda x: len(x)))"
   ]
  },
  {
   "cell_type": "code",
   "execution_count": 9,
   "metadata": {},
   "outputs": [
    {
     "data": {
      "text/plain": [
       "('一', 'ユリエ')"
      ]
     },
     "execution_count": 9,
     "metadata": {},
     "output_type": "execute_result"
    }
   ],
   "source": [
    "index, row = next(filtered_dt.iterrows())\n",
    "row['セ'], row['タカエ']"
   ]
  },
  {
   "cell_type": "code",
   "execution_count": 10,
   "metadata": {},
   "outputs": [
    {
     "data": {
      "text/html": [
       "<div>\n",
       "<style scoped>\n",
       "    .dataframe tbody tr th:only-of-type {\n",
       "        vertical-align: middle;\n",
       "    }\n",
       "\n",
       "    .dataframe tbody tr th {\n",
       "        vertical-align: top;\n",
       "    }\n",
       "\n",
       "    .dataframe thead th {\n",
       "        text-align: right;\n",
       "    }\n",
       "</style>\n",
       "<table border=\"1\" class=\"dataframe\">\n",
       "  <thead>\n",
       "    <tr style=\"text-align: right;\">\n",
       "      <th></th>\n",
       "      <th>セ</th>\n",
       "      <th>タカエ</th>\n",
       "      <th>name</th>\n",
       "    </tr>\n",
       "  </thead>\n",
       "  <tbody>\n",
       "    <tr>\n",
       "      <th>0</th>\n",
       "      <td>一</td>\n",
       "      <td>ユリエ</td>\n",
       "      <td>name</td>\n",
       "    </tr>\n",
       "    <tr>\n",
       "      <th>1</th>\n",
       "      <td>一丁田</td>\n",
       "      <td>倖誠</td>\n",
       "      <td>name</td>\n",
       "    </tr>\n",
       "    <tr>\n",
       "      <th>2</th>\n",
       "      <td>一丁田</td>\n",
       "      <td>敦史</td>\n",
       "      <td>name</td>\n",
       "    </tr>\n",
       "    <tr>\n",
       "      <th>3</th>\n",
       "      <td>一丁田</td>\n",
       "      <td>晶也</td>\n",
       "      <td>name</td>\n",
       "    </tr>\n",
       "    <tr>\n",
       "      <th>4</th>\n",
       "      <td>一丁田</td>\n",
       "      <td>智也</td>\n",
       "      <td>name</td>\n",
       "    </tr>\n",
       "  </tbody>\n",
       "</table>\n",
       "</div>"
      ],
      "text/plain": [
       "     セ  タカエ  name\n",
       "0    一  ユリエ  name\n",
       "1  一丁田   倖誠  name\n",
       "2  一丁田   敦史  name\n",
       "3  一丁田   晶也  name\n",
       "4  一丁田   智也  name"
      ]
     },
     "execution_count": 10,
     "metadata": {},
     "output_type": "execute_result"
    }
   ],
   "source": [
    "filtered_dt[:5]"
   ]
  },
  {
   "cell_type": "code",
   "execution_count": 11,
   "metadata": {},
   "outputs": [],
   "source": [
    "from image_utils import ImageText\n",
    "\n",
    "i_empty = np.full((53 * 3, 565 * 3, 3), 255)\n",
    "i_empty[:, :10] = 80\n",
    "i_empty[:, -10:] = 80\n",
    "i_empty[:10, :] = 80\n",
    "i_empty[:, :5] = 40\n",
    "i_empty[:, -5:] = 40\n",
    "i_empty[:5, :] = 40\n",
    "i_empty[-5:, :] = 40\n",
    "i = Image.fromarray(i_empty.astype(\"uint8\"))\n",
    "img = ImageText(i)"
   ]
  },
  {
   "cell_type": "code",
   "execution_count": 52,
   "metadata": {},
   "outputs": [
    {
     "data": {
      "text/plain": [
       "<matplotlib.image.AxesImage at 0x7fb24f208f60>"
      ]
     },
     "execution_count": 52,
     "metadata": {},
     "output_type": "execute_result"
    },
    {
     "data": {
      "image/png": "[encoded data removed]",
      "text/plain": [
       "<Figure size 1440x1440 with 1 Axes>"
      ]
     },
     "metadata": {
      "needs_background": "light"
     },
     "output_type": "display_data"
    }
   ],
   "source": [
    "from PIL import Image\n",
    "from image_utils import ImageText\n",
    "import numpy as np\n",
    "\n",
    "iterrow = shuffle(filtered_dt).reset_index(drop=True).iterrows()\n",
    "\n",
    "i_empty = np.full((53 * 3, 565 * 3, 3), 255)\n",
    "i_empty[:, :10] = 80\n",
    "i_empty[:, -10:] = 80\n",
    "i_empty[:10, :] = 80\n",
    "i_empty[:, :5] = 40\n",
    "i_empty[:, -5:] = 40\n",
    "i_empty[:5, :] = 40\n",
    "i_empty[-5:, :] = 40\n",
    "bg = Image.fromarray(i_empty.astype(\"uint8\"))\n",
    "\n",
    "index1, row1 = next(iterrow)\n",
    "index2, row2 = next(iterrow)\n",
    "\n",
    "f = lambda x: ' '.join(x)\n",
    "\n",
    "first_name1, last_name1 = gen_name() # row1['セ'], row1['タカエ']\n",
    "first_name2, last_name2 = gen_name() # row2['セ'], row2['タカエ']\n",
    "text = f'{f(last_name1)}_{f(first_name1)}_[{f(last_name2)}_{f(first_name2)}]'\n",
    "\n",
    "if get_text_size(font_filename=\"newfont/meiryo.ttc\", font_size=110, text=text)[0] > 565*3-300+200:\n",
    "    text = f'{(last_name1)}_{(first_name1)}_[{(last_name2)}_{(first_name2)}]'\n",
    "\n",
    "img = ImageText(bg)\n",
    "\n",
    "img.write_text_box((160, -135), text, box_width=565*3-300, font_filename=\"newfont/meiryo.ttc\",\n",
    "                   font_size=110, color=(50, 50, 50), place='justify', justify_last_line=True)\n",
    "\n",
    "plt.imshow(img.image)"
   ]
  },
  {
   "cell_type": "code",
   "execution_count": 18,
   "metadata": {},
   "outputs": [
    {
     "data": {
      "text/plain": [
       "1395"
      ]
     },
     "execution_count": 18,
     "metadata": {},
     "output_type": "execute_result"
    }
   ],
   "source": [
    "565*3-300"
   ]
  },
  {
   "cell_type": "code",
   "execution_count": 17,
   "metadata": {},
   "outputs": [
    {
     "data": {
      "text/plain": [
       "(1622, 138)"
      ]
     },
     "execution_count": 17,
     "metadata": {},
     "output_type": "execute_result"
    }
   ],
   "source": [
    "def get_text_size(font_filename, font_size, text):\n",
    "    font = ImageFont.truetype(font_filename, font_size)\n",
    "    return font.getsize(text)\n",
    "\n",
    "get_text_size(font_filename=\"newfont/meiryo.ttc\", font_size=110, text=text)"
   ]
  },
  {
   "cell_type": "code",
   "execution_count": 13,
   "metadata": {},
   "outputs": [
    {
     "name": "stdout",
     "output_type": "stream",
     "text": [
      "(53, 565, 4)\n"
     ]
    },
    {
     "data": {
      "text/plain": [
       "<matplotlib.image.AxesImage at 0x7fb24f43aba8>"
      ]
     },
     "execution_count": 13,
     "metadata": {},
     "output_type": "execute_result"
    },
    {
     "data": {
      "image/png": "[encoded data removed]",
      "text/plain": [
       "<Figure size 1440x1440 with 1 Axes>"
      ]
     },
     "metadata": {
      "needs_background": "light"
     },
     "output_type": "display_data"
    }
   ],
   "source": [
    "i = path2np_img(\"source/Picture1 (bản sao khác).png\")\n",
    "print(i.shape)\n",
    "plt.imshow(i)"
   ]
  },
  {
   "cell_type": "code",
   "execution_count": 54,
   "metadata": {},
   "outputs": [],
   "source": [
    "mode = 'save'\n",
    "path = 'res/name'\n",
    "rmtree(path)\n",
    "os.makedirs(path, exist_ok=True)\n",
    "# for n in range(len(names)):\n",
    "iterrow = shuffle(filtered_dt).reset_index(drop=True).iterrows()\n",
    "l_i_2 = []\n",
    "for n in range(1, 49*2*4 + 1):\n",
    "    i_empty = np.full((53 * 3, 565 * 3, 3), 255)\n",
    "    i_empty[:, :10] = 80\n",
    "    i_empty[:, -10:] = 80\n",
    "    i_empty[:10, :] = 80\n",
    "    i_empty[:, :5] = 40\n",
    "    i_empty[:, -5:] = 40\n",
    "    i_empty[:5, :] = 40\n",
    "    i_empty[-5:, :] = 40\n",
    "\n",
    "    bg = Image.fromarray(i_empty.astype(\"uint8\"))\n",
    "    \n",
    "    index, row1 = next(iterrow)\n",
    "    index, row2 = next(iterrow)\n",
    "    \n",
    "    f = lambda x: ' '.join(x)\n",
    "\n",
    "    first_name1, last_name1 = gen_name() # row1['セ'], row1['タカエ']\n",
    "    first_name2, last_name2 = gen_name() # row2['セ'], row2['タカエ']\n",
    "    true_text = f'{last_name1} {first_name1} [{last_name2} {first_name2}]'\n",
    "    text = f'{f(last_name1)}_{f(first_name1)}_[{f(last_name2)}_{f(first_name2)}]'\n",
    "\n",
    "    if get_text_size(font_filename=\"newfont/meiryo.ttc\", font_size=110, text=text)[0] > 565*3-300+200:\n",
    "        text = f'{(last_name1)}_{(first_name1)}_[{(last_name2)}_{(first_name2)}]'\n",
    "\n",
    "    img = ImageText(bg)\n",
    "    img.write_text_box((160, -135), text, box_width=565*3-300, font_filename=\"newfont/meiryo.ttc\",\n",
    "                       font_size=110, color=(50, 50, 50), place='justify', justify_last_line=True)\n",
    "    i = img.image\n",
    "    l_i_2.append(i)\n",
    "    \n",
    "    if n % (49*4) == 0 :\n",
    "        os.makedirs(f\"{path}_a4\", exist_ok=True)\n",
    "        images_iter = iter(l_i_2)\n",
    "        h, w = 49, 520\n",
    "        pad = np.full((20, w, 3), 255, 'uint8')\n",
    "        col1, col2, col3, col4 = [], [], [], []\n",
    "        cols = [col1, col2, col3, col4]\n",
    "        for ik in cols:\n",
    "            for j in range(49):\n",
    "                img = next(images_iter)\n",
    "                k = img.resize((w, h), Image.ANTIALIAS)\n",
    "                k = np.array(k)\n",
    "                ik.extend((k, pad))\n",
    "        colskk = list(map(np.vstack, cols))\n",
    "\n",
    "        bg = np.full((3508,2480,3), 255, dtype='uint8')\n",
    "        coords = [[90+590*i, 80] for i in range(len(colskk))]\n",
    "        for colkk, coord in zip(colskk, coords):\n",
    "            x, y = coord\n",
    "            bg[y:y+colkk.shape[0], x:x+colkk.shape[1]] = colkk\n",
    "        Image.fromarray(bg).save(f\"{path}_a4/{int(n / (49*4)):03d}.png\")\n",
    "        l_i_2 = []\n",
    "    \n",
    "    if mode=='plot':\n",
    "        plt.imshow(i)\n",
    "        break\n",
    "    elif mode=='save':\n",
    "        i.save(f\"{path}/{n:03d}_{true_text}.png\")\n",
    "        with open(f\"{path}/{n:03d}_{true_text}.txt\", \"w\") as f:\n",
    "            f.write(f\"{true_text}\")"
   ]
  },
  {
   "cell_type": "code",
   "execution_count": null,
   "metadata": {},
   "outputs": [],
   "source": []
  }
 ],
 "metadata": {
  "kernelspec": {
   "display_name": "Python 3",
   "language": "python",
   "name": "python3"
  },
  "language_info": {
   "codemirror_mode": {
    "name": "ipython",
    "version": 3
   },
   "file_extension": ".py",
   "mimetype": "text/x-python",
   "name": "python",
   "nbconvert_exporter": "python",
   "pygments_lexer": "ipython3",
   "version": "3.6.9"
  }
 },
 "nbformat": 4,
 "nbformat_minor": 4
}
